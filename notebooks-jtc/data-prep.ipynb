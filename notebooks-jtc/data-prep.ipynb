{
 "cells": [
  {
   "cell_type": "code",
   "execution_count": 1,
   "metadata": {},
   "outputs": [],
   "source": [
    "from google.cloud import bigquery\n",
    "import pandas as pd\n",
    "import numpy as np\n",
    "import matplotlib.pyplot as plt\n",
    "import json\n",
    "plt.style.use('ggplot')\n",
    "from geopy.geocoders import Nominatim\n",
    "\n",
    "# Create a BigQuery client\n",
    "client = bigquery.Client.from_service_account_json(\"key.json\")"
   ]
  },
  {
   "cell_type": "code",
   "execution_count": 2,
   "metadata": {},
   "outputs": [
    {
     "name": "stderr",
     "output_type": "stream",
     "text": [
      "/home/chen112p/.pyenv/versions/3.12.4/lib/python3.12/site-packages/google/cloud/bigquery/table.py:1727: UserWarning: BigQuery Storage module not found, fetch data with the REST endpoint instead.\n",
      "  warnings.warn(\n"
     ]
    }
   ],
   "source": [
    "query = \"\"\"\n",
    "SELECT * FROM `cse-6242-fa24-lz.hurricane.points`\n",
    "\"\"\"\n",
    "points = client.query(query).to_dataframe()"
   ]
  },
  {
   "cell_type": "code",
   "execution_count": 3,
   "metadata": {},
   "outputs": [],
   "source": [
    "query = \"\"\"\n",
    "SELECT * FROM `cse-6242-fa24-lz.hurricane.radii`\n",
    "\"\"\"\n",
    "radii = client.query(query).to_dataframe()\n",
    "\n",
    "\n",
    "# radii: wind speed in knot  avg wind speed in the \n",
    "# synoptime: advisory time \n",
    "# stormnum: storm count of the year\n",
    "# ne: distance of wind speed in Nautical Miles in in NE quadrant"
   ]
  },
  {
   "cell_type": "code",
   "execution_count": 4,
   "metadata": {},
   "outputs": [
    {
     "name": "stderr",
     "output_type": "stream",
     "text": [
      "/tmp/ipykernel_407743/822559188.py:4: SettingWithCopyWarning: \n",
      "A value is trying to be set on a copy of a slice from a DataFrame.\n",
      "Try using .loc[row_indexer,col_indexer] = value instead\n",
      "\n",
      "See the caveats in the documentation: https://pandas.pydata.org/pandas-docs/stable/user_guide/indexing.html#returning-a-view-versus-a-copy\n",
      "  point_time_cat3plus['dtg'] = pd.to_datetime(point_time_cat3plus['dtg'].astype(int).astype(str), format='%Y%m%d%H')\n"
     ]
    }
   ],
   "source": [
    "points_cat3plus = points[points[\"ss\"] >= 3]\n",
    "\n",
    "point_time_cat3plus = points_cat3plus[['stormid','dtg']]\n",
    "point_time_cat3plus['dtg'] = pd.to_datetime(point_time_cat3plus['dtg'].astype(int).astype(str), format='%Y%m%d%H')\n",
    "\n",
    "storm_synoptime_cat3plus = point_time_cat3plus.groupby('stormid').agg(\n",
    "            earliest_synoptime=('dtg', 'min'),\n",
    "            latest_synoptime=('dtg', 'max')).sort_values('earliest_synoptime')\n",
    "storm_synoptime_cat3plus['earliest_synoptime'] = storm_synoptime_cat3plus['earliest_synoptime'].dt.round('D')\n",
    "storm_synoptime_cat3plus['latest_synoptime'] = storm_synoptime_cat3plus['latest_synoptime'].dt.round('D')"
   ]
  },
  {
   "cell_type": "code",
   "execution_count": 5,
   "metadata": {},
   "outputs": [
    {
     "name": "stderr",
     "output_type": "stream",
     "text": [
      "/tmp/ipykernel_407743/3939783047.py:2: SettingWithCopyWarning: \n",
      "A value is trying to be set on a copy of a slice from a DataFrame.\n",
      "Try using .loc[row_indexer,col_indexer] = value instead\n",
      "\n",
      "See the caveats in the documentation: https://pandas.pydata.org/pandas-docs/stable/user_guide/indexing.html#returning-a-view-versus-a-copy\n",
      "  point_time['dtg'] = pd.to_datetime(point_time['dtg'].astype(int).astype(str), format='%Y%m%d%H')\n"
     ]
    }
   ],
   "source": [
    "point_time = points[['stormid','dtg']]\n",
    "point_time['dtg'] = pd.to_datetime(point_time['dtg'].astype(int).astype(str), format='%Y%m%d%H')\n",
    "\n",
    "storm_synoptime = point_time.groupby('stormid').agg(\n",
    "            earliest_synoptime=('dtg', 'min'),\n",
    "            latest_synoptime=('dtg', 'max')).sort_values('earliest_synoptime')\n",
    "storm_synoptime['earliest_synoptime'] = storm_synoptime['earliest_synoptime'].dt.round('D')\n",
    "storm_synoptime['latest_synoptime'] = storm_synoptime['latest_synoptime'].dt.round('D')"
   ]
  },
  {
   "cell_type": "code",
   "execution_count": 6,
   "metadata": {},
   "outputs": [],
   "source": [
    "months = pd.date_range('2014-06-01', '2023-11-01', freq='MS')\n",
    "months = months[(months.month >= 6) & (months.month <= 11)]\n",
    "monthly_counts_unique = []\n",
    "monthly_counts_cat3_unique = []\n",
    "for month in months:\n",
    "    month_start = month\n",
    "    month_end = month + pd.offsets.MonthEnd(1)\n",
    "    \n",
    "    unique_days = set()\n",
    "    unique_days_cat3 = set()\n",
    "    # Go through each storm's period and add each day to the set if it falls within the month\n",
    "    for _, row in storm_synoptime.iterrows():\n",
    "        overlap_start = max(row['earliest_synoptime'], month_start)\n",
    "        overlap_end = min(row['latest_synoptime'], month_end)\n",
    "        \n",
    "        # If there is an overlap within the current month, add each day to the unique_days set\n",
    "        if overlap_start < overlap_end:\n",
    "            for single_day in pd.date_range(overlap_start, overlap_end, freq='D'):\n",
    "                unique_days.add(single_day)\n",
    "    for _, row in storm_synoptime_cat3plus.iterrows():\n",
    "        overlap_start = max(row['earliest_synoptime'], month_start)\n",
    "        overlap_end = min(row['latest_synoptime'], month_end)\n",
    "        \n",
    "        # If there is an overlap within the current month, add each day to the unique_days set\n",
    "        if overlap_start < overlap_end:\n",
    "            for single_day in pd.date_range(overlap_start, overlap_end, freq='D'):\n",
    "                unique_days_cat3.add(single_day)\n",
    "    \n",
    "    # Append result for this month with the count of unique days\n",
    "    monthly_counts_unique.append({\n",
    "        'month': month,\n",
    "        'N_day': len(unique_days),\n",
    "        'N_day_plus': len(unique_days_cat3)\n",
    "    })\n",
    "monthly_counts_unique = pd.DataFrame(monthly_counts_unique)"
   ]
  },
  {
   "cell_type": "code",
   "execution_count": 7,
   "metadata": {},
   "outputs": [
    {
     "name": "stderr",
     "output_type": "stream",
     "text": [
      "/home/chen112p/.pyenv/versions/3.12.4/lib/python3.12/site-packages/google/cloud/bigquery/table.py:1727: UserWarning: BigQuery Storage module not found, fetch data with the REST endpoint instead.\n",
      "  warnings.warn(\n"
     ]
    }
   ],
   "source": [
    "query = \"\"\"\n",
    "SELECT * FROM `cse-6242-fa24-lz.analytics_marts.dim_hurricane_attributes`\n",
    " \"\"\"\n",
    "hurricane = client.query(query).to_dataframe()\n",
    "hurricane = hurricane.dropna(subset=['storm_id'])"
   ]
  },
  {
   "cell_type": "code",
   "execution_count": 8,
   "metadata": {},
   "outputs": [],
   "source": [
    "acre_raw = pd.read_csv(r'radii_with_acres.csv')\n",
    "acre_raw = acre_raw.dropna(subset=['stormid'])\n",
    "acre_raw['timestamp'] = pd.to_datetime(acre_raw[['year', 'month']].assign(day=1))\n",
    "acre_raw['stormid'] = acre_raw['stormid'].str.upper()\n",
    "acre_raw = pd.merge(acre_raw,hurricane,left_on='stormid',right_on='storm_id',how='left')\n",
    "acre_raw['AcresOnLandPlus'] = acre_raw['AcresOnLand'].where(acre_raw['max_severity'] >= 3, 0)\n",
    "acre_raw['HD_Store_CountPlus'] = acre_raw['HD_Store_Count'].where(acre_raw['max_severity'] >= 3, 0)\n",
    "acre_raw['LOW_Store_CountPlus'] = acre_raw['LOW_Store_Count'].where(acre_raw['max_severity'] >= 3, 0)\n",
    "\n",
    "acre_sum = acre_raw.groupby('timestamp').agg({'AcresOnLand': 'sum',\n",
    "                                              'AcresOnLandPlus': 'sum',\n",
    "                                              'HD_Store_Count': 'sum',\n",
    "                                              'LOW_Store_Count': 'sum',\n",
    "                                              'HD_Store_CountPlus': 'sum',\n",
    "                                              'LOW_Store_CountPlus': 'sum'}\n",
    "                                             )\n",
    "acre_sum = acre_sum[['AcresOnLand',\n",
    "                     'AcresOnLandPlus',\n",
    "                     'HD_Store_Count',\n",
    "                     'LOW_Store_Count',\n",
    "                     'HD_Store_CountPlus',\n",
    "                     'LOW_Store_CountPlus']]\n",
    "merged_df = pd.merge(monthly_counts_unique, acre_sum, \n",
    "                     left_on='month',\n",
    "                     right_on='timestamp',\n",
    "                      how='left')\n",
    "merged_df['month'] = merged_df['month'].dt.strftime('%Y-%m')\n",
    "\n",
    "\n",
    "stock_price = pd.read_csv(r'stock_price.csv')\n",
    "\n",
    "master_df = pd.merge(merged_df,stock_price,\n",
    "         left_on = 'month',\n",
    "         right_on = 'date',\n",
    "         how='left')\n",
    "master_df.to_csv('master_df.csv',index=None)"
   ]
  },
  {
   "cell_type": "code",
   "execution_count": null,
   "metadata": {},
   "outputs": [],
   "source": []
  },
  {
   "cell_type": "code",
   "execution_count": null,
   "metadata": {},
   "outputs": [],
   "source": [
    "hd"
   ]
  },
  {
   "cell_type": "code",
   "execution_count": null,
   "metadata": {},
   "outputs": [],
   "source": []
  },
  {
   "cell_type": "code",
   "execution_count": null,
   "metadata": {},
   "outputs": [],
   "source": []
  },
  {
   "cell_type": "code",
   "execution_count": null,
   "metadata": {},
   "outputs": [],
   "source": []
  },
  {
   "cell_type": "code",
   "execution_count": 52,
   "metadata": {},
   "outputs": [],
   "source": [
    "import matplotlib.pyplot as plt"
   ]
  },
  {
   "cell_type": "code",
   "execution_count": 67,
   "metadata": {},
   "outputs": [
    {
     "data": {
      "text/plain": [
       "[<matplotlib.lines.Line2D at 0x7f536cfc3ad0>]"
      ]
     },
     "execution_count": 67,
     "metadata": {},
     "output_type": "execute_result"
    },
    {
     "data": {
      "image/png": "[encoded data removed]",
      "text/plain": [
       "<Figure size 640x480 with 1 Axes>"
      ]
     },
     "metadata": {},
     "output_type": "display_data"
    }
   ],
   "source": [
    "plt.plot(merged_df['month'], merged_df['HD_Store_Count'])"
   ]
  },
  {
   "cell_type": "code",
   "execution_count": null,
   "metadata": {},
   "outputs": [],
   "source": []
  }
 ],
 "metadata": {
  "kernelspec": {
   "display_name": "Python 3",
   "language": "python",
   "name": "python3"
  },
  "language_info": {
   "codemirror_mode": {
    "name": "ipython",
    "version": 3
   },
   "file_extension": ".py",
   "mimetype": "text/x-python",
   "name": "python",
   "nbconvert_exporter": "python",
   "pygments_lexer": "ipython3",
   "version": "3.12.4"
  }
 },
 "nbformat": 4,
 "nbformat_minor": 2
}
